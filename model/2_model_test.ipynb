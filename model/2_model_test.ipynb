{
 "cells": [
  {
   "cell_type": "markdown",
   "id": "626f3b08-01a6-4461-a70a-ef2976239835",
   "metadata": {
    "tags": []
   },
   "source": [
    "## Проверка работоспособности и качества пайплайна"
   ]
  },
  {
   "cell_type": "markdown",
   "id": "56c9e3a3-b267-4189-9652-ae24cbf9d20c",
   "metadata": {},
   "source": [
    "**Здесь мы еще не запускаем никакое API, а загружаем модель (pipeline) напрямую и проверяем на отложенной (тестовой) выборке**"
   ]
  },
  {
   "cell_type": "code",
   "execution_count": 1,
   "id": "46917489-d713-4c95-8dfa-4b186c47424d",
   "metadata": {},
   "outputs": [],
   "source": [
    "import pandas as pd\n",
    "import numpy as np\n",
    "from sklearn.metrics import roc_auc_score,roc_curve\n",
    "from pathlib import Path\n",
    "import dill\n",
    "dill._dill._reverse_typemap['ClassType'] = type"
   ]
  },
  {
   "cell_type": "code",
   "execution_count": 2,
   "id": "7f830e3c-5c70-4adc-ba04-7f90a4df7501",
   "metadata": {},
   "outputs": [],
   "source": [
    "import warnings\n",
    "warnings.filterwarnings('ignore')"
   ]
  },
  {
   "cell_type": "markdown",
   "id": "aec7d42c-1ffd-455e-89ca-3bf9d6118a42",
   "metadata": {
    "tags": []
   },
   "source": [
    "## Используемые константы<a class=\"anchor\" id=\"used_constants\"></a>"
   ]
  },
  {
   "cell_type": "code",
   "execution_count": 3,
   "id": "fe4ed3f9-39b2-47ff-a5c1-419c256b110d",
   "metadata": {},
   "outputs": [],
   "source": [
    "# Список используемых переменных констант\n",
    "\n",
    "RANDOM_STATE = 42"
   ]
  },
  {
   "cell_type": "markdown",
   "id": "4689cd3e-b98c-43bd-9812-d20fa85ebac2",
   "metadata": {},
   "source": [
    "## Используемые функции<a class=\"anchor\" id=\"used_functions\"></a>"
   ]
  },
  {
   "cell_type": "markdown",
   "id": "b1e79a82-9e20-4724-94b9-5e03ad12ff9e",
   "metadata": {
    "tags": []
   },
   "source": [
    "## Загрузка исходных данных<a class=\"anchor\" id=\"load_data\"></a>"
   ]
  },
  {
   "cell_type": "markdown",
   "id": "04eb34c3-693a-4408-8ebb-82f2736bce1e",
   "metadata": {},
   "source": [
    "### Пути к директориям и файлам<a class=\"anchor\" id=\"path_data\"></a>"
   ]
  },
  {
   "cell_type": "markdown",
   "id": "015e8a73-40d6-46d1-ba4a-bb16b31f59db",
   "metadata": {},
   "source": [
    "### Загрузка данных<a class=\"anchor\" id=\"load_dataset\"></a>"
   ]
  },
  {
   "cell_type": "markdown",
   "id": "85b8dbe9-8149-492f-83af-ac99bd67b13e",
   "metadata": {},
   "source": [
    "**Описание базового датасета**\n",
    "\n",
    "* **title** - заголовок новости\n",
    "* **is_fake** - метка: 0 – новость реальная; 1 – новость выдуманная"
   ]
  },
  {
   "cell_type": "code",
   "execution_count": 4,
   "id": "560b32fc-f56c-4c28-b0b2-f098b1392408",
   "metadata": {
    "tags": []
   },
   "outputs": [],
   "source": [
    "X_test = pd.read_csv(\"X_test.csv\")\n",
    "y_test = pd.read_csv(\"y_test.csv\")"
   ]
  },
  {
   "cell_type": "code",
   "execution_count": 10,
   "id": "b47af497-9e07-43a3-b3ba-8f276e6a4eea",
   "metadata": {},
   "outputs": [
    {
     "data": {
      "text/plain": [
       "0    Ученые ради Марса прожили восемь месяцев в изо...\n",
       "1    Обзор рынков: РТС не удержался на отметке 1900...\n",
       "2    Sony Pictures купила сценарий фильма-катастроф...\n",
       "Name: title, dtype: object"
      ]
     },
     "execution_count": 10,
     "metadata": {},
     "output_type": "execute_result"
    }
   ],
   "source": [
    "X_test['title'].head(3)"
   ]
  },
  {
   "cell_type": "code",
   "execution_count": 11,
   "id": "efb5cd0d-d1aa-467d-8817-e1bac3a36aac",
   "metadata": {},
   "outputs": [
    {
     "name": "stdout",
     "output_type": "stream",
     "text": [
      "Тренировочный датасет df_train: (576, 2)\n"
     ]
    }
   ],
   "source": [
    "print('Тренировочный датасет df_train:', X_test.shape)"
   ]
  },
  {
   "cell_type": "code",
   "execution_count": 12,
   "id": "c0d4323c-63d8-49de-bd92-3709e58ba457",
   "metadata": {},
   "outputs": [],
   "source": [
    "with open('logreg_pipeline.dill', 'rb') as in_strm:\n",
    "    pipeline = dill.load(in_strm)"
   ]
  },
  {
   "cell_type": "code",
   "execution_count": 13,
   "id": "0ee4c0e7-f4ff-4067-b2c0-87977a0a7545",
   "metadata": {},
   "outputs": [],
   "source": [
    "predictions = pipeline.predict_proba(X_test)\n",
    "pd.DataFrame({'preds': predictions[:, 1]}).to_csv(\"test_predictions.csv\", index=None)"
   ]
  },
  {
   "cell_type": "code",
   "execution_count": 14,
   "id": "fd2a66d3-9317-4df0-9a73-411f93d11515",
   "metadata": {},
   "outputs": [
    {
     "data": {
      "text/plain": [
       "0.8329685081269349"
      ]
     },
     "execution_count": 14,
     "metadata": {},
     "output_type": "execute_result"
    }
   ],
   "source": [
    "roc_auc_score(y_score=predictions[:, 1][:], y_true=y_test)"
   ]
  },
  {
   "cell_type": "code",
   "execution_count": null,
   "id": "fed018f3-1ec1-4851-a11e-37959be1025c",
   "metadata": {},
   "outputs": [],
   "source": []
  }
 ],
 "metadata": {
  "kernelspec": {
   "display_name": "Python 3 (ipykernel)",
   "language": "python",
   "name": "python3"
  },
  "language_info": {
   "codemirror_mode": {
    "name": "ipython",
    "version": 3
   },
   "file_extension": ".py",
   "mimetype": "text/x-python",
   "name": "python",
   "nbconvert_exporter": "python",
   "pygments_lexer": "ipython3",
   "version": "3.9.12"
  }
 },
 "nbformat": 4,
 "nbformat_minor": 5
}
